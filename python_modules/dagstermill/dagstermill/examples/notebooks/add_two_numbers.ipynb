{
 "cells": [
  {
   "cell_type": "code",
   "execution_count": 28,
   "metadata": {},
   "outputs": [],
   "source": [
    "import dagstermill as dm\n",
    "from dagstermill.examples.repository import define_example_repository\n",
    "dm.declare_as_solid(define_example_repository(), 'add_two_numbers')"
   ]
  },
  {
   "cell_type": "code",
   "execution_count": 29,
   "metadata": {
    "tags": [
     "parameters"
    ]
   },
   "outputs": [],
   "source": [
    "info = dm.get_info({'context': {'default': {\"config\": {\"log_level\": \"DEBUG\"}}}})\n",
    "a = 3\n",
    "b = 4"
   ]
  },
  {
   "cell_type": "code",
   "execution_count": 24,
   "metadata": {},
   "outputs": [
    {
     "name": "stderr",
     "output_type": "stream",
     "text": [
      "2019-01-28 09:21:54 - dagster - INFO - orig_message=\"This is a test info log!\" log_message_id=\"773c3a24-db9e-48d0-9982-0131d57bb100\" run_id=\"d8e5fbde-a119-45e1-a5cf-97ce02ff8582\"\n",
      "2019-01-28 09:21:54 - dagster - DEBUG - orig_message=\"This is test debug log!\" log_message_id=\"5c016553-5575-4d45-81df-83c5ddbf4580\" run_id=\"d8e5fbde-a119-45e1-a5cf-97ce02ff8582\"\n"
     ]
    }
   ],
   "source": [
    "info.log.info(\"This is a test info log!\")\n",
    "info.log.debug(\"This is test debug log!\")"
   ]
  },
  {
   "cell_type": "code",
   "execution_count": 25,
   "metadata": {},
   "outputs": [],
   "source": [
    "#a, b = 3, 4"
   ]
  },
  {
   "cell_type": "code",
   "execution_count": 26,
   "metadata": {},
   "outputs": [
    {
     "data": {
      "text/plain": [
       "7"
      ]
     },
     "execution_count": 26,
     "metadata": {},
     "output_type": "execute_result"
    }
   ],
   "source": [
    "result = a + b\n",
    "result"
   ]
  },
  {
   "cell_type": "code",
   "execution_count": 27,
   "metadata": {},
   "outputs": [
    {
     "data": {
      "text/plain": [
       "7"
      ]
     },
     "execution_count": 27,
     "metadata": {},
     "output_type": "execute_result"
    }
   ],
   "source": [
    "dm.yield_result(result)"
   ]
  },
  {
   "cell_type": "code",
   "execution_count": null,
   "metadata": {},
   "outputs": [],
   "source": []
  }
 ],
 "metadata": {
  "celltoolbar": "Tags",
  "kernelspec": {
   "display_name": "dagster",
   "language": "python",
   "name": "dagster"
  },
  "language_info": {
   "codemirror_mode": {
    "name": "ipython",
    "version": 3
   },
   "file_extension": ".py",
   "mimetype": "text/x-python",
   "name": "python",
   "nbconvert_exporter": "python",
   "pygments_lexer": "ipython3",
   "version": "3.6.5"
  }
 },
 "nbformat": 4,
 "nbformat_minor": 2
}
